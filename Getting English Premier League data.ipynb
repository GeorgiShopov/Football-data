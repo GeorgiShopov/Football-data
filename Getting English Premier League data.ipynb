{
 "cells": [
  {
   "cell_type": "code",
   "execution_count": 1,
   "id": "62ead140-cf7a-4e3b-888f-950cf6bc4cd0",
   "metadata": {},
   "outputs": [],
   "source": [
    "import pandas as pd"
   ]
  },
  {
   "cell_type": "code",
   "execution_count": null,
   "id": "2d222155-64b2-4cfe-9136-56da1bba86e5",
   "metadata": {},
   "outputs": [],
   "source": [
    "\"\"\"\n",
    "Data source:\n",
    "https://www.football-data.co.uk/\n",
    "\n",
    "link to csv file:\n",
    "https://www.football-data.co.uk/mmz4281/1011/E0.csv\n",
    "                                      season/league\n",
    "                                      \n",
    "In the link, '2122' means season 2021/2022\n",
    "E0 - Premier league\n",
    "E1 - Championship\n",
    "E2 - League 1\n",
    "E3 - League 3\n",
    "\"\"\""
   ]
  },
  {
   "cell_type": "code",
   "execution_count": 4,
   "id": "4b2f38e8-12f0-42f4-a05b-877f13381026",
   "metadata": {},
   "outputs": [
    {
     "name": "stdout",
     "output_type": "stream",
     "text": [
      "['1011', '1112', '1213', '1314', '1415', '1516', '1617', '1718', '1819', '1920', '2021', '2122']\n"
     ]
    }
   ],
   "source": [
    "#GENERATING a LIST for ALL of the seasons \n",
    "\n",
    "y = 10                                                   #year starting 2010\n",
    "s = []                                                   #empty list for the seasons\n",
    "\n",
    "while y <= 21:\n",
    "    s.append(str(y)+str(y+1))\n",
    "    \n",
    "    y = y + 1\n",
    "    \n",
    "print(s)"
   ]
  },
  {
   "cell_type": "code",
   "execution_count": 5,
   "id": "fcdc6ba6-156b-4745-b56d-04afa3087315",
   "metadata": {},
   "outputs": [
    {
     "name": "stdout",
     "output_type": "stream",
     "text": [
      "https://www.football-data.co.uk/mmz4281/1011/E0.csv\n",
      "https://www.football-data.co.uk/mmz4281/1112/E0.csv\n",
      "https://www.football-data.co.uk/mmz4281/1213/E0.csv\n",
      "https://www.football-data.co.uk/mmz4281/1314/E0.csv\n",
      "https://www.football-data.co.uk/mmz4281/1415/E0.csv\n",
      "https://www.football-data.co.uk/mmz4281/1516/E0.csv\n",
      "https://www.football-data.co.uk/mmz4281/1617/E0.csv\n",
      "https://www.football-data.co.uk/mmz4281/1718/E0.csv\n",
      "https://www.football-data.co.uk/mmz4281/1819/E0.csv\n",
      "https://www.football-data.co.uk/mmz4281/1920/E0.csv\n",
      "https://www.football-data.co.uk/mmz4281/2021/E0.csv\n",
      "https://www.football-data.co.uk/mmz4281/2122/E0.csv\n"
     ]
    }
   ],
   "source": [
    "#TESTING links\n",
    "for i in s:\n",
    "    print(f'https://www.football-data.co.uk/mmz4281/{i}/E0.csv')"
   ]
  },
  {
   "cell_type": "code",
   "execution_count": 6,
   "id": "f3c0ca51-2b05-4419-9c33-ca7ee0670cce",
   "metadata": {},
   "outputs": [],
   "source": [
    "links = []\n",
    "for i in s:\n",
    "    links.append(f'https://www.football-data.co.uk/mmz4281/{i}/E0.csv')"
   ]
  },
  {
   "cell_type": "code",
   "execution_count": 24,
   "id": "2a5312ae-f5a9-4402-8a57-d6cb15c6ffc2",
   "metadata": {},
   "outputs": [
    {
     "name": "stdout",
     "output_type": "stream",
     "text": [
      "The table contains 0 rows and 24 columns - 0 values\n",
      "starting the loop\n",
      "getting data\n",
      "adding 380 rows to the table\n",
      "adding 380 rows to the table\n",
      "adding 380 rows to the table\n",
      "adding 380 rows to the table\n",
      "adding 381 rows to the table\n",
      "adding 380 rows to the table\n",
      "adding 380 rows to the table\n",
      "adding 380 rows to the table\n",
      "adding 380 rows to the table\n",
      "adding 380 rows to the table\n",
      "adding 380 rows to the table\n",
      "adding 380 rows to the table\n",
      "extracting finished\n",
      "4561 rows, 24 columns - 109464 cells\n"
     ]
    }
   ],
   "source": [
    "wanted = ['Season', 'Div', 'Date', 'HomeTeam', 'AwayTeam', 'FTHG', 'FTAG', 'FTR', 'HTHG', 'HTAG', 'HTR', 'Referee', 'HS', 'AS', 'HST', 'AST', 'HF', 'AF', 'HC', 'AC', 'HY', 'AY', 'HR', 'AR']\n",
    "data = pd.DataFrame(columns=wanted)\n",
    "\n",
    "print(f'The table contains {data.shape[0]} rows and {data.shape[1]} columns - {data.size} values')\n",
    "print('starting the loop')\n",
    "print('getting data')\n",
    "\n",
    "for i in links:\n",
    "    temp = pd.read_csv(i)\n",
    "    season = str(pd.DatetimeIndex(temp['Date']).year.min())+'/'+str(pd.DatetimeIndex(temp['Date']).year.max())\n",
    "    temp['Season'] = season\n",
    "    temp = temp[wanted]\n",
    "    data = data.append(temp, ignore_index=True)\n",
    "    \n",
    "    print(f'adding {temp.shape[0]} rows to the table')\n",
    "\n",
    "print('extracting finished')\n",
    "print(f'{data.shape[0]} rows, {data.shape[1]} columns - {data.size} cells')"
   ]
  },
  {
   "cell_type": "code",
   "execution_count": 35,
   "id": "743aad21-ec8e-42c4-8a26-1bd42bccc50d",
   "metadata": {},
   "outputs": [
    {
     "name": "stdout",
     "output_type": "stream",
     "text": [
      "<class 'pandas.core.frame.DataFrame'>\n",
      "RangeIndex: 4561 entries, 0 to 4560\n",
      "Data columns (total 24 columns):\n",
      " #   Column    Non-Null Count  Dtype \n",
      "---  ------    --------------  ----- \n",
      " 0   Season    4561 non-null   object\n",
      " 1   Div       4560 non-null   object\n",
      " 2   Date      4560 non-null   object\n",
      " 3   HomeTeam  4560 non-null   object\n",
      " 4   AwayTeam  4560 non-null   object\n",
      " 5   FTHG      4560 non-null   object\n",
      " 6   FTAG      4560 non-null   object\n",
      " 7   FTR       4560 non-null   object\n",
      " 8   HTHG      4560 non-null   object\n",
      " 9   HTAG      4560 non-null   object\n",
      " 10  HTR       4560 non-null   object\n",
      " 11  Referee   4560 non-null   object\n",
      " 12  HS        4560 non-null   object\n",
      " 13  AS        4560 non-null   object\n",
      " 14  HST       4560 non-null   object\n",
      " 15  AST       4560 non-null   object\n",
      " 16  HF        4560 non-null   object\n",
      " 17  AF        4560 non-null   object\n",
      " 18  HC        4560 non-null   object\n",
      " 19  AC        4560 non-null   object\n",
      " 20  HY        4560 non-null   object\n",
      " 21  AY        4560 non-null   object\n",
      " 22  HR        4560 non-null   object\n",
      " 23  AR        4560 non-null   object\n",
      "dtypes: object(24)\n",
      "memory usage: 855.3+ KB\n"
     ]
    }
   ],
   "source": [
    "data.info()"
   ]
  },
  {
   "cell_type": "code",
   "execution_count": 43,
   "id": "346022a3-4a69-490e-aad5-2e949e847967",
   "metadata": {},
   "outputs": [],
   "source": [
    "data.to_excel('England_Premier_League_2010-2022.xlsx', sheet_name= 'Premier League')"
   ]
  },
  {
   "cell_type": "code",
   "execution_count": null,
   "id": "c42f4d79-86a5-44a2-b5eb-55f7bfd5808c",
   "metadata": {},
   "outputs": [],
   "source": []
  },
  {
   "cell_type": "code",
   "execution_count": null,
   "id": "12dcc517-be51-4d2e-b67a-656f70e3e906",
   "metadata": {},
   "outputs": [],
   "source": []
  }
 ],
 "metadata": {
  "kernelspec": {
   "display_name": "Python 3",
   "language": "python",
   "name": "python3"
  },
  "language_info": {
   "codemirror_mode": {
    "name": "ipython",
    "version": 3
   },
   "file_extension": ".py",
   "mimetype": "text/x-python",
   "name": "python",
   "nbconvert_exporter": "python",
   "pygments_lexer": "ipython3",
   "version": "3.8.8"
  }
 },
 "nbformat": 4,
 "nbformat_minor": 5
}
