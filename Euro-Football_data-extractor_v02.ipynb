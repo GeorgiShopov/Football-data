{
 "cells": [
  {
   "cell_type": "code",
   "execution_count": null,
   "id": "26178e67-b144-4e49-8e46-438f133cf3bd",
   "metadata": {},
   "outputs": [],
   "source": [
    "#################################\n",
    "#-------------------------------#\n",
    "#---FOOTBALL--DATA--EXTRACTOR---#\n",
    "#-------------------------------#\n",
    "#################################\n",
    "\n",
    "\"\"\"\n",
    "This script extracts and combines data from multiple CSV files\n",
    "and saves it into the directory of the script.\n",
    "\n",
    "Basic Football statistics for 11 countries, 17 leagues, 12 years\n",
    "Data is freely available at Football-Data.co.uk\n",
    "The script extracts only part of the available data points.\n",
    "\n",
    "Check their notes:\n",
    "https://www.football-data.co.uk/notes.txt\n",
    "\"\"\""
   ]
  },
  {
   "cell_type": "code",
   "execution_count": 63,
   "id": "e6234c19-6f3c-4c03-9fd7-b5592ef7596b",
   "metadata": {},
   "outputs": [
    {
     "data": {
      "application/vnd.jupyter.widget-view+json": {
       "model_id": "7caaafa7f975433fa6041a771ed3fdb7",
       "version_major": 2,
       "version_minor": 0
      },
      "text/plain": [
       "Extracting data:   0%|          | 0/17 [00:00<?, ?it/s]"
      ]
     },
     "metadata": {},
     "output_type": "display_data"
    },
    {
     "data": {
      "application/vnd.jupyter.widget-view+json": {
       "model_id": "df1d8b7859454c9baab510e611908990",
       "version_major": 2,
       "version_minor": 0
      },
      "text/plain": [
       "England - Premier League:   0%|          | 0/11 [00:00<?, ?it/s]"
      ]
     },
     "metadata": {},
     "output_type": "display_data"
    },
    {
     "data": {
      "application/vnd.jupyter.widget-view+json": {
       "model_id": "3dfa747d62234f3bbf500ad157079c95",
       "version_major": 2,
       "version_minor": 0
      },
      "text/plain": [
       "England - Championship:   0%|          | 0/11 [00:00<?, ?it/s]"
      ]
     },
     "metadata": {},
     "output_type": "display_data"
    },
    {
     "data": {
      "application/vnd.jupyter.widget-view+json": {
       "model_id": "c23652effa9f4c99b4c6a6e96aa89cc2",
       "version_major": 2,
       "version_minor": 0
      },
      "text/plain": [
       "Spain - Primera Division:   0%|          | 0/11 [00:00<?, ?it/s]"
      ]
     },
     "metadata": {},
     "output_type": "display_data"
    },
    {
     "data": {
      "application/vnd.jupyter.widget-view+json": {
       "model_id": "11a7d508354e4553b5d050ce269c3708",
       "version_major": 2,
       "version_minor": 0
      },
      "text/plain": [
       "Spain - Segunda Division:   0%|          | 0/11 [00:00<?, ?it/s]"
      ]
     },
     "metadata": {},
     "output_type": "display_data"
    },
    {
     "data": {
      "application/vnd.jupyter.widget-view+json": {
       "model_id": "9927561acc904a1d88fb71d1d1c8aae9",
       "version_major": 2,
       "version_minor": 0
      },
      "text/plain": [
       "Italy - Serie A:   0%|          | 0/11 [00:00<?, ?it/s]"
      ]
     },
     "metadata": {},
     "output_type": "display_data"
    },
    {
     "data": {
      "application/vnd.jupyter.widget-view+json": {
       "model_id": "7e692c3c50b54efca24d9130fff4e23b",
       "version_major": 2,
       "version_minor": 0
      },
      "text/plain": [
       "Italy - Serie B:   0%|          | 0/11 [00:00<?, ?it/s]"
      ]
     },
     "metadata": {},
     "output_type": "display_data"
    },
    {
     "data": {
      "application/vnd.jupyter.widget-view+json": {
       "model_id": "3f26e28f6ac14f808c8110436978135b",
       "version_major": 2,
       "version_minor": 0
      },
      "text/plain": [
       "Germany - Bundesliga 1:   0%|          | 0/11 [00:00<?, ?it/s]"
      ]
     },
     "metadata": {},
     "output_type": "display_data"
    },
    {
     "data": {
      "application/vnd.jupyter.widget-view+json": {
       "model_id": "2637d4a230bf4aecaa8c653f06624a50",
       "version_major": 2,
       "version_minor": 0
      },
      "text/plain": [
       "Germany - Bundesliga 2:   0%|          | 0/11 [00:00<?, ?it/s]"
      ]
     },
     "metadata": {},
     "output_type": "display_data"
    },
    {
     "data": {
      "application/vnd.jupyter.widget-view+json": {
       "model_id": "6f151181006745598108edd7aeb9e7ab",
       "version_major": 2,
       "version_minor": 0
      },
      "text/plain": [
       "France - Le Championnat:   0%|          | 0/11 [00:00<?, ?it/s]"
      ]
     },
     "metadata": {},
     "output_type": "display_data"
    },
    {
     "data": {
      "application/vnd.jupyter.widget-view+json": {
       "model_id": "8ced6df42c45457b91b3257eb45e2fca",
       "version_major": 2,
       "version_minor": 0
      },
      "text/plain": [
       "France - Division 2:   0%|          | 0/11 [00:00<?, ?it/s]"
      ]
     },
     "metadata": {},
     "output_type": "display_data"
    },
    {
     "data": {
      "application/vnd.jupyter.widget-view+json": {
       "model_id": "953e402b1f724ec79cf37bd533fc0e85",
       "version_major": 2,
       "version_minor": 0
      },
      "text/plain": [
       "Scotland - Premier League:   0%|          | 0/11 [00:00<?, ?it/s]"
      ]
     },
     "metadata": {},
     "output_type": "display_data"
    },
    {
     "data": {
      "application/vnd.jupyter.widget-view+json": {
       "model_id": "ed1df1f073444f79a362f62182bb07fd",
       "version_major": 2,
       "version_minor": 0
      },
      "text/plain": [
       "Scotland - Division 1:   0%|          | 0/11 [00:00<?, ?it/s]"
      ]
     },
     "metadata": {},
     "output_type": "display_data"
    },
    {
     "data": {
      "application/vnd.jupyter.widget-view+json": {
       "model_id": "de92d171a86f4e058e4f48f11c320791",
       "version_major": 2,
       "version_minor": 0
      },
      "text/plain": [
       "Netherlands - Eredivisie:   0%|          | 0/11 [00:00<?, ?it/s]"
      ]
     },
     "metadata": {},
     "output_type": "display_data"
    },
    {
     "data": {
      "application/vnd.jupyter.widget-view+json": {
       "model_id": "412e9d6fb50d47d492bc872bc88b49bc",
       "version_major": 2,
       "version_minor": 0
      },
      "text/plain": [
       "Portugal - Liga I:   0%|          | 0/11 [00:00<?, ?it/s]"
      ]
     },
     "metadata": {},
     "output_type": "display_data"
    },
    {
     "data": {
      "application/vnd.jupyter.widget-view+json": {
       "model_id": "7dd2f731572140e7b402db6d1c41c46a",
       "version_major": 2,
       "version_minor": 0
      },
      "text/plain": [
       "Turkey - Futbol Ligi 1:   0%|          | 0/11 [00:00<?, ?it/s]"
      ]
     },
     "metadata": {},
     "output_type": "display_data"
    },
    {
     "data": {
      "application/vnd.jupyter.widget-view+json": {
       "model_id": "54947e92bdd645b48c234ff15cb20cf4",
       "version_major": 2,
       "version_minor": 0
      },
      "text/plain": [
       "Greece - Ethniki Katigoria:   0%|          | 0/11 [00:00<?, ?it/s]"
      ]
     },
     "metadata": {},
     "output_type": "display_data"
    },
    {
     "data": {
      "application/vnd.jupyter.widget-view+json": {
       "model_id": "2b5511dc99844dd3812d28e089bec0a9",
       "version_major": 2,
       "version_minor": 0
      },
      "text/plain": [
       "Belgium - Jupiler League:   0%|          | 0/11 [00:00<?, ?it/s]"
      ]
     },
     "metadata": {},
     "output_type": "display_data"
    },
    {
     "name": "stdout",
     "output_type": "stream",
     "text": [
      "Data extracted and saved here ---> 'C:\\Users\\Lamat\\Documents\\Python Scripts\\Premier League data' \n",
      "\n",
      "<class 'pandas.core.frame.DataFrame'>\n",
      "RangeIndex: 59986 entries, 0 to 59985\n",
      "Data columns (total 27 columns):\n",
      " #   Column    Non-Null Count  Dtype \n",
      "---  ------    --------------  ----- \n",
      " 0   id        59986 non-null  object\n",
      " 1   Country   59986 non-null  object\n",
      " 2   League    59986 non-null  object\n",
      " 3   Div       59881 non-null  object\n",
      " 4   Season    59986 non-null  object\n",
      " 5   Date      59881 non-null  object\n",
      " 6   HomeTeam  59881 non-null  object\n",
      " 7   AwayTeam  59881 non-null  object\n",
      " 8   Referee   11088 non-null  object\n",
      " 9   FTHG      59879 non-null  object\n",
      " 10  FTAG      59879 non-null  object\n",
      " 11  FTR       59879 non-null  object\n",
      " 12  HTHG      59821 non-null  object\n",
      " 13  HTAG      59821 non-null  object\n",
      " 14  HTR       59821 non-null  object\n",
      " 15  HS        43007 non-null  object\n",
      " 16  AS        43007 non-null  object\n",
      " 17  HST       43007 non-null  object\n",
      " 18  AST       43007 non-null  object\n",
      " 19  HF        41668 non-null  object\n",
      " 20  AF        41668 non-null  object\n",
      " 21  HC        43007 non-null  object\n",
      " 22  AC        43007 non-null  object\n",
      " 23  HY        43007 non-null  object\n",
      " 24  AY        43008 non-null  object\n",
      " 25  HR        43008 non-null  object\n",
      " 26  AR        43007 non-null  object\n",
      "dtypes: object(27)\n",
      "memory usage: 12.4+ MB\n"
     ]
    }
   ],
   "source": [
    "import shortuuid as uid\n",
    "import datetime as dt\n",
    "import pandas as pd\n",
    "import numpy as np\n",
    "import os\n",
    "from tqdm.auto import tqdm\n",
    "\n",
    "#Codes and names for ALL LEAGUES\n",
    "leagues = {\n",
    "        'E0':['England', 'Premier League'],\n",
    "        'E1':['England', 'Championship'],\n",
    "        'SP1':['Spain', 'Primera Division'],\n",
    "        'SP2':['Spain', 'Segunda Division'],\n",
    "        'I1':['Italy', 'Serie A'],\n",
    "        'I2':['Italy', 'Serie B'],\n",
    "        'D1':['Germany', 'Bundesliga 1'],\n",
    "        'D2':['Germany', 'Bundesliga 2'],\n",
    "        'F1':['France', 'Le Championnat'],\n",
    "        'F2':['France', 'Division 2'],\n",
    "        'SC1':['Scotland','Premier League'],\n",
    "        'SC2':['Scotland','Division 1'],\n",
    "        'N1':['Netherlands','Eredivisie'],\n",
    "        'P1':['Portugal','Liga I'],\n",
    "        'T1':['Turkey','Futbol Ligi 1'],\n",
    "        'G1':['Greece','Ethniki Katigoria'],\n",
    "        'B1':['Belgium','Jupiler League']}\n",
    "\n",
    "#Explanation:\n",
    "\"\"\"\n",
    "link to a csv file for English Premier League:\n",
    "https://www.football-data.co.uk/mmz4281/1011/E0.csv\n",
    "                                      season/league   <-- \n",
    "                                      \n",
    "In the link, '2122' means season 2021-2022\n",
    "E0 is English Premier league, SP1 is Spanish La Liga, etc.\"\"\"\n",
    "\n",
    "\n",
    "#generating a list of lists for ALL desired season\n",
    "\n",
    "start = 2012                   #starting year\n",
    "now = dt.date.today().year     #current year\n",
    "ly = int(str(start)[2:])       #equals to the last 2 digits of start year\n",
    "years = []                     #will be populated with lists like the example\n",
    "\n",
    "for x in range(1, now-start+1):\n",
    "    season = start + x\n",
    "    seasons = [str(ly)+str(ly+1), str(season-1)+\"-\"+str(season)]\n",
    "    ly += 1\n",
    "    years.append(seasons)\n",
    "\n",
    "#list of target columns and list of main columns\n",
    "#check metadata for more info \n",
    "\n",
    "wanted = ['Div', 'Date', 'HomeTeam', 'AwayTeam', 'Referee',\n",
    "          'FTHG', 'FTAG', 'FTR', 'HTHG', 'HTAG', 'HTR', 'HS', 'AS', 'HST', 'AST', 'HF', 'AF', 'HC', 'AC', 'HY', 'AY', 'HR', 'AR']\n",
    "\n",
    "base_attributes = ['id','Country', 'League', 'Div', 'Season', 'Date', 'HomeTeam', 'AwayTeam', 'Referee',\n",
    "                   'FTHG', 'FTAG', 'FTR', 'HTHG', 'HTAG', 'HTR', 'HS', 'AS', 'HST', 'AST', 'HF', 'AF', 'HC', 'AC', 'HY', 'AY', 'HR', 'AR']\n",
    "\n",
    "# older_attributes = ['Div', 'Date', 'HomeTeam', 'AwayTeam', \n",
    "#                    'FTHG', 'FTAG', 'FTR', 'HTHG', 'HTAG', 'HTR']\n",
    "\n",
    "data = pd.DataFrame(columns=base_attributes)   #creating empty table with the main attributes\n",
    "\n",
    "#getting the data\n",
    "links = []\n",
    "for league in tqdm(leagues.keys(), desc=f\"Extracting data\"):\n",
    "    for i in tqdm(years, desc=f'{leagues[league][0]} - {leagues[league][1]}'):\n",
    "        year = i[0]\n",
    "        links.append(f'https://www.football-data.co.uk/mmz4281/{year}/{league}.csv')\n",
    "        temp = pd.read_csv(links[-1], encoding='windows-1252')\n",
    "#         print(f'{year}/{league}')\n",
    "        try:\n",
    "            temp = temp[wanted]\n",
    "        except:\n",
    "            for col in wanted:\n",
    "                if col not in temp.columns:\n",
    "                    temp[col] = np.nan\n",
    "            \n",
    "        temp['Country'] = leagues[league][0]\n",
    "        temp['League'] = leagues[league][1]\n",
    "        temp['Season'] = i[1]\n",
    "        temp['id'] = 0\n",
    "        temp = temp[base_attributes]\n",
    "        data = pd.concat([data, temp],ignore_index=True)\n",
    "\n",
    "#creating ids for all matches\n",
    "data['id'] = [uid.uuid() for x in data['id']] \n",
    "\n",
    "#exporting data into the location of the script\n",
    "data.to_excel(f'Euro-Football_{start}-{now}.xlsx', sheet_name= 'Euro_Football', index=False)\n",
    "data.to_csv(f'Euro-Football_{start}-{now}.csv', index=False)\n",
    "\n",
    "print(f\"Data extracted and saved here ---> '{os.getcwd()}' \\n\")\n",
    "data.info()\n"
   ]
  }
 ],
 "metadata": {
  "kernelspec": {
   "display_name": "Python 3",
   "language": "python",
   "name": "python3"
  },
  "language_info": {
   "codemirror_mode": {
    "name": "ipython",
    "version": 3
   },
   "file_extension": ".py",
   "mimetype": "text/x-python",
   "name": "python",
   "nbconvert_exporter": "python",
   "pygments_lexer": "ipython3",
   "version": "3.8.8"
  }
 },
 "nbformat": 4,
 "nbformat_minor": 5
}
